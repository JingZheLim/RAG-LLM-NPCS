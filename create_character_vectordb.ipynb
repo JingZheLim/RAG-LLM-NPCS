{
 "cells": [
  {
   "attachments": {},
   "cell_type": "markdown",
   "metadata": {},
   "source": [
    "### Create Character Vector Database"
   ]
  },
  {
   "cell_type": "code",
   "execution_count": 2,
   "metadata": {},
   "outputs": [
    {
     "name": "stderr",
     "output_type": "stream",
     "text": [
      "d:\\University-Coding\\Text-Gen-Proj\\.venv\\Lib\\site-packages\\pydantic\\_internal\\_config.py:341: UserWarning: Valid config keys have changed in V2:\n",
      "* 'allow_population_by_field_name' has been renamed to 'populate_by_name'\n",
      "* 'smart_union' has been removed\n",
      "  warnings.warn(message, UserWarning)\n"
     ]
    }
   ],
   "source": [
    "from langchain.text_splitter import RecursiveCharacterTextSplitter\n",
    "from langchain_cohere import CohereEmbeddings\n",
    "from langchain_chroma import Chroma\n",
    "from langchain_cohere import ChatCohere\n",
    "\n",
    "cohere_chat_model = ChatCohere(cohere_api_key=\"lMWcC83xVJlxEE5RahrziIdTiVqGetOp7Ba9YtD4\")\n",
    "cohere_embeddings = CohereEmbeddings(cohere_api_key=\"lMWcC83xVJlxEE5RahrziIdTiVqGetOp7Ba9YtD4\",\n",
    "                              user_agent='langchain',\n",
    "                              model=\"embed-english-v2.0\")\n",
    "\n",
    "# Set the game name and character name\n",
    "game_name = 'Honkai_Star_Rail'\n",
    "character_name = 'Acheron'\n",
    "\n",
    "# Load the file\n",
    "with open(f'{game_name}/characters/{character_name}/character_knowledge.txt', errors='ignore') as f:\n",
    "    public_info = f.read()\n",
    "\n",
    "# Create Text Splitter, Chunk size is number of characters in each item of the list \n",
    "# While chunk overlap is how many characters from the previous item should be repeated in the next item \n",
    "text_splitter = RecursiveCharacterTextSplitter(\n",
    "    chunk_size = 600,\n",
    "    chunk_overlap  = 0,\n",
    "    length_function = len,\n",
    "    separators = ['\\n\\n\\n', '\\n\\n', '\\n', '.', ',', ' ']\n",
    ")\n",
    "\n",
    "# Split the text \n",
    "public_info_list = text_splitter.split_text(public_info)\n",
    "\n",
    "\n",
    "# Path must be inside the character folder in the game folder with the name vectordb\n",
    "persist_directory = f'{game_name}/characters/{character_name}/vectordb'\n",
    "\n",
    "# Create the Vector Database\n",
    "vectordb = Chroma.from_texts(public_info_list, cohere_embeddings, persist_directory=persist_directory)"
   ]
  },
  {
   "attachments": {},
   "cell_type": "markdown",
   "metadata": {},
   "source": [
    "### Test the Vector Database"
   ]
  },
  {
   "cell_type": "code",
   "execution_count": 4,
   "metadata": {},
   "outputs": [
    {
     "name": "stdout",
     "output_type": "stream",
     "text": [
      "...She had traversed numerous worlds before our paths crossed, and she possessed a wide range of life skills. Together, we cooked and established camps amidst the wilderness. On starless nights, she lent an ear to my stories and deliberated plans for the following day. Yet, more often than not, we journeyed in silence. The snow here bears a purplish-red hue, carrying the tangy flavor of raspberries. While she has almost lost her sense of taste, she appreciates the Orkron snow doughnuts I prepare...\n"
     ]
    }
   ],
   "source": [
    "# search for a topic and see if you get relevant information, k is for number of similar items to return\n",
    "docs = vectordb.similarity_search(\"Rogue\", k = 1)\n",
    "similar_story_string = \"\\n\".join(doc.page_content for doc in docs)\n",
    "print(similar_story_string)"
   ]
  },
  {
   "attachments": {},
   "cell_type": "markdown",
   "metadata": {},
   "source": [
    "### To add text to existing vector database \n",
    "#### (Optional, only if you want to add something that was not previously there in the above text file)"
   ]
  },
  {
   "cell_type": "code",
   "execution_count": null,
   "metadata": {},
   "outputs": [],
   "source": [
    "# from langchain.embeddings import CohereEmbeddings\n",
    "# import json\n",
    "# import random\n",
    "# from langchain.vectorstores import Chroma\n",
    "\n",
    "#selected_key = json.load(open('apikeys.json', 'r'))['api_keys'][random.randint(\n",
    "#    0, len(json.load(open('apikeys.json', 'r'))['api_keys'])-1)]\n",
    "#embeddings = CohereEmbeddings(cohere_api_key=selected_key)\n",
    "#persist_directory = 'Cyberpunk_2077/characters/Jackie_Welles/vectordb'\n",
    "#vectordb = Chroma(persist_directory=persist_directory, embedding_function=embeddings)\n",
    "#vectordb.add_texts([\"pineapples are yummy\", \"tomatoes are evil\"])\n",
    "#vectordb.persist()"
   ]
  },
  {
   "attachments": {},
   "cell_type": "markdown",
   "metadata": {},
   "source": [
    "#### To delete vectordb entirely, delete the public_vectordb folder inside the game folder"
   ]
  },
  {
   "cell_type": "code",
   "execution_count": 1,
   "metadata": {},
   "outputs": [],
   "source": [
    "import shutil\n",
    "# path to vectordb inside your character\n",
    "folder_path = 'Honkai_Star_Rail/characters/Acheron/vectordb'\n",
    "shutil.rmtree(folder_path)"
   ]
  }
 ],
 "metadata": {
  "kernelspec": {
   "display_name": ".venv",
   "language": "python",
   "name": "python3"
  },
  "language_info": {
   "codemirror_mode": {
    "name": "ipython",
    "version": 3
   },
   "file_extension": ".py",
   "mimetype": "text/x-python",
   "name": "python",
   "nbconvert_exporter": "python",
   "pygments_lexer": "ipython3",
   "version": "3.11.9"
  },
  "orig_nbformat": 4
 },
 "nbformat": 4,
 "nbformat_minor": 2
}
