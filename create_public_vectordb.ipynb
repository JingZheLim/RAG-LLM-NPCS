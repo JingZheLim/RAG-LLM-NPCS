{
 "cells": [
  {
   "cell_type": "code",
   "execution_count": 2,
   "metadata": {},
   "outputs": [
    {
     "name": "stderr",
     "output_type": "stream",
     "text": [
      "d:\\University-Coding\\Text-Gen-Proj\\.venv\\Lib\\site-packages\\pydantic\\_internal\\_config.py:341: UserWarning: Valid config keys have changed in V2:\n",
      "* 'allow_population_by_field_name' has been renamed to 'populate_by_name'\n",
      "* 'smart_union' has been removed\n",
      "  warnings.warn(message, UserWarning)\n"
     ]
    }
   ],
   "source": [
    "from langchain.text_splitter import RecursiveCharacterTextSplitter\n",
    "from langchain_cohere import CohereEmbeddings\n",
    "from langchain_chroma import Chroma\n",
    "from langchain_cohere import ChatCohere\n",
    "\n",
    "\n",
    "cohere_chat_model = ChatCohere(cohere_api_key=\"lMWcC83xVJlxEE5RahrziIdTiVqGetOp7Ba9YtD4\")\n",
    "cohere_embeddings = CohereEmbeddings(cohere_api_key=\"lMWcC83xVJlxEE5RahrziIdTiVqGetOp7Ba9YtD4\",\n",
    "                              user_agent='langchain',\n",
    "                              model=\"embed-english-v2.0\")\n",
    "\n",
    "\n",
    "# Set the game name \n",
    "game_name = 'Honkai_Star_Rail'\n",
    "\n",
    "# Load the file\n",
    "with open(f'{game_name}/public_info.txt', errors='ignore') as f:\n",
    "    public_info = f.read()\n",
    "\n",
    "# Split into chucks\n",
    "text_splitter = RecursiveCharacterTextSplitter(\n",
    "    chunk_size = 1500,\n",
    "    chunk_overlap  = 500,\n",
    "    length_function = len,\n",
    "    separators = ['\\n\\n\\n', '\\n\\n', '\\n', '.', ',', ' ']\n",
    ")\n",
    "\n",
    "# Split the texts\n",
    "public_info_list = text_splitter.split_text(public_info)\n",
    "\n",
    "# Path must be inside the game folder with the name public_vectordb\n",
    "persist_directory = f'{game_name}/public_vectordb'\n",
    "\n",
    "# Create the Vector Database\n",
    "vectordb = Chroma.from_texts(public_info_list, cohere_embeddings, persist_directory=persist_directory)"
   ]
  },
  {
   "cell_type": "code",
   "execution_count": 3,
   "metadata": {},
   "outputs": [
    {
     "name": "stdout",
     "output_type": "stream",
     "text": [
      "About Black Swan\t A lady of elegance and dignity, her benevolent offer lingers in my memory. That dance... it brought me a sense of warmth and nostalgia.\n",
      "About Aventurine\t A shattered emptiness draped in the guise of desire... his existence is strikingly powerful, yet the self beneath is extraordinarily faint.\n",
      "About Welt\t There are many types of people called \"heroes,\" and he is among the most genuine... I have seen many such people come and go.\n",
      "About Sam\t Wherever the fiery giant treads, scorched earth follows. Yet, it's those consumed by unending fire... who, after the flames vanish, quietly hold the ashes in their lonesome embrace.\n",
      "About Boothill\t Galaxy Ranger... His affiliation with the organization is merely a cover. It's evident that he lives only for himself, and that is exactly why I have faith in him.\n",
      "Eidolon Activation\t \"To cross the same river twice\" ...Hardly a hardship.\n",
      "Character Ascension\t Never turn back â€” the path behind is gone.\n",
      "Max Level Reached\t The distant vistas are hazy... but must surely hold beauty.\n",
      "Trace Activation\t Another blank canvas.\n",
      "Added to Team With (Trailblazer)\t  So it's you... Our time spent with one another is precious.\n",
      "Added to Team With Black Swan\t Our paths cross once more... Ready for another dance, Memokeeper?\n",
      "Added to Team With Aventurine\t All or nothing... time will tell.\n",
      "Added to Team With Welt\t Even before the abyss of a black hole... we still have a choice.\n"
     ]
    }
   ],
   "source": [
    "# search for a topic and see if you get relevant information, k is for number of similar items to return\n",
    "topic = \"About Welt\"\n",
    "docs = vectordb.similarity_search(topic, k = 1)\n",
    "similar_story_string = \"\\n\".join(doc.page_content for doc in docs)\n",
    "print(similar_story_string)"
   ]
  },
  {
   "cell_type": "code",
   "execution_count": 1,
   "metadata": {},
   "outputs": [],
   "source": [
    "import shutil\n",
    "# path to public_vectordb inside your game folder\n",
    "folder_path = 'Honkai_Star_Rail/public_vectordb'\n",
    "shutil.rmtree(folder_path)"
   ]
  }
 ],
 "metadata": {
  "kernelspec": {
   "display_name": ".venv",
   "language": "python",
   "name": "python3"
  },
  "language_info": {
   "codemirror_mode": {
    "name": "ipython",
    "version": 3
   },
   "file_extension": ".py",
   "mimetype": "text/x-python",
   "name": "python",
   "nbconvert_exporter": "python",
   "pygments_lexer": "ipython3",
   "version": "3.11.9"
  }
 },
 "nbformat": 4,
 "nbformat_minor": 2
}
